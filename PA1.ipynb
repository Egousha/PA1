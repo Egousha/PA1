{
 "cells": [
  {
   "cell_type": "markdown",
   "id": "2eab64f3",
   "metadata": {},
   "source": [
    "# Programming Assignment 1"
   ]
  },
  {
   "cell_type": "markdown",
   "id": "5d0e028b",
   "metadata": {},
   "source": [
    "## Evan Gousha"
   ]
  },
  {
   "cell_type": "markdown",
   "id": "3b78200e",
   "metadata": {},
   "source": [
    "### CS 150"
   ]
  },
  {
   "cell_type": "markdown",
   "id": "e1024291",
   "metadata": {},
   "source": [
    "#### Fall 2021"
   ]
  },
  {
   "cell_type": "code",
   "execution_count": 1,
   "id": "c19e14c2",
   "metadata": {},
   "outputs": [
    {
     "name": "stdout",
     "output_type": "stream",
     "text": [
      "Enter a floating point number. 44.3\n"
     ]
    }
   ],
   "source": [
    "x = float(input('Enter a floating point number. '))"
   ]
  },
  {
   "cell_type": "code",
   "execution_count": 2,
   "id": "8eb14470",
   "metadata": {},
   "outputs": [
    {
     "name": "stdout",
     "output_type": "stream",
     "text": [
      "Enter an integer. 16\n"
     ]
    }
   ],
   "source": [
    "y = int(input('Enter an integer. '))"
   ]
  },
  {
   "cell_type": "code",
   "execution_count": 3,
   "id": "c7a1fd30",
   "metadata": {},
   "outputs": [
    {
     "name": "stdout",
     "output_type": "stream",
     "text": [
      "The sum is 60.3\n"
     ]
    }
   ],
   "source": [
    "print('The sum is', x+y)"
   ]
  },
  {
   "cell_type": "code",
   "execution_count": 4,
   "id": "13a2c670",
   "metadata": {},
   "outputs": [
    {
     "name": "stdout",
     "output_type": "stream",
     "text": [
      "The difference is 28.299999999999997\n"
     ]
    }
   ],
   "source": [
    "print('The difference is', x-y)"
   ]
  },
  {
   "cell_type": "code",
   "execution_count": 5,
   "id": "02d05e6a",
   "metadata": {},
   "outputs": [
    {
     "name": "stdout",
     "output_type": "stream",
     "text": [
      "The product is 708.8\n"
     ]
    }
   ],
   "source": [
    "print('The product is', x*y )"
   ]
  },
  {
   "cell_type": "code",
   "execution_count": 6,
   "id": "8d696c54",
   "metadata": {},
   "outputs": [
    {
     "name": "stdout",
     "output_type": "stream",
     "text": [
      "The quotient is 2.76875\n"
     ]
    }
   ],
   "source": [
    "print('The quotient is', x/y)"
   ]
  },
  {
   "cell_type": "code",
   "execution_count": 7,
   "id": "1d4b1068",
   "metadata": {},
   "outputs": [
    {
     "name": "stdout",
     "output_type": "stream",
     "text": [
      "The type for the result is <class 'float'>\n"
     ]
    }
   ],
   "source": [
    "print('The type for the result is', type(x/y))"
   ]
  },
  {
   "cell_type": "code",
   "execution_count": null,
   "id": "245504b9",
   "metadata": {},
   "outputs": [],
   "source": []
  }
 ],
 "metadata": {
  "kernelspec": {
   "display_name": "Python 3",
   "language": "python",
   "name": "python3"
  },
  "language_info": {
   "codemirror_mode": {
    "name": "ipython",
    "version": 3
   },
   "file_extension": ".py",
   "mimetype": "text/x-python",
   "name": "python",
   "nbconvert_exporter": "python",
   "pygments_lexer": "ipython3",
   "version": "3.8.8"
  }
 },
 "nbformat": 4,
 "nbformat_minor": 5
}
